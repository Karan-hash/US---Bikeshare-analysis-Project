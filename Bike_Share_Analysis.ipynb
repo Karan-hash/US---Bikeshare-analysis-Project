{
 "cells": [
  {
   "cell_type": "markdown",
   "metadata": {},
   "source": [
    "# 2016 US Bike Share Activity Snapshot\n",
    "\n",
    "## Table of Contents\n",
    "- [Introduction](#intro)\n",
    "- [Posing Questions](#pose_questions)\n",
    "- [Data Collection and Wrangling](#wrangling)\n",
    "  - [Condensing the Trip Data](#condensing)\n",
    "- [Exploratory Data Analysis](#eda)\n",
    "  - [Statistics](#statistics)\n",
    "  - [Visualizations](#visualizations)\n",
    "- [Performing Your Own Analysis](#eda_continued)\n",
    "- [Conclusions](#conclusions)\n",
    "\n",
    "<a id='intro'></a>\n",
    "## Introduction\n",
    "\n",
    "> **Tip**: Quoted sections like this will provide helpful instructions on how to navigate and use a Jupyter notebook.\n",
    "\n",
    "Over the past decade, bicycle-sharing systems have been growing in number and popularity in cities across the world. Bicycle-sharing systems allow users to rent bicycles for short trips, typically 30 minutes or less. Thanks to the rise in information technologies, it is easy for a user of the system to access a dock within the system to unlock or return bicycles. These technologies also provide a wealth of data that can be used to explore how these bike-sharing systems are used.\n",
    "\n",
    "In this project, you will perform an exploratory analysis on data provided by [Motivate](https://www.motivateco.com/), a bike-share system provider for many major cities in the United States. You will compare the system usage between three large cities: New York City, Chicago, and Washington, DC. You will also see if there are any differences within each system for those users that are registered, regular users and those users that are short-term, casual users."
   ]
  },
  {
   "cell_type": "markdown",
   "metadata": {},
   "source": [
    "<a id='pose_questions'></a>\n",
    "## Posing Questions\n",
    "\n",
    "Before looking at the bike sharing data, you should start by asking questions you might want to understand about the bike share data. Consider, for example, if you were working for Motivate. What kinds of information would you want to know about in order to make smarter business decisions? If you were a user of the bike-share service, what factors might influence how you would want to use the service?\n",
    "\n",
    "**Question 1**: Write at least two questions related to bike sharing that you think could be answered by data.\n",
    "\n",
    "**Answer**: **Q-1**: How many bikes used by particular users in the city?\n",
    "<br>\n",
    "**Q-2**: Duration of bikes used by particular user_types?\n",
    "\n",
    "> **Tip**: If you double click on this cell, you will see the text change so that all of the formatting is removed. This allows you to edit this block of text. This block of text is written using [Markdown](http://daringfireball.net/projects/markdown/syntax), which is a way to format text using headers, links, italics, and many other options using a plain-text syntax. You will also use Markdown later in the Nanodegree program. Use **Shift** + **Enter** or **Shift** + **Return** to run the cell and show its rendered form."
   ]
  },
  {
   "cell_type": "markdown",
   "metadata": {},
   "source": [
    "<a id='wrangling'></a>\n",
    "## Data Collection and Wrangling\n",
    "\n",
    "Now it's time to collect and explore our data. In this project, we will focus on the record of individual trips taken in 2016 from our selected cities: New York City, Chicago, and Washington, DC. Each of these cities has a page where we can freely download the trip data.:\n",
    "\n",
    "- New York City (Citi Bike): [Link](https://www.citibikenyc.com/system-data)\n",
    "- Chicago (Divvy): [Link](https://www.divvybikes.com/system-data)\n",
    "- Washington, DC (Capital Bikeshare): [Link](https://www.capitalbikeshare.com/system-data)\n",
    "\n",
    "If you visit these pages, you will notice that each city has a different way of delivering its data. Chicago updates with new data twice a year, Washington DC is quarterly, and New York City is monthly. **However, you do not need to download the data yourself.** The data has already been collected for you in the `/data/` folder of the project files. While the original data for 2016 is spread among multiple files for each city, the files in the `/data/` folder collect all of the trip data for the year into one file per city. Some data wrangling of inconsistencies in timestamp format within each city has already been performed for you. In addition, a random 2% sample of the original data is taken to make the exploration more manageable. \n",
    "\n",
    "**Question 2**: However, there is still a lot of data for us to investigate, so it's a good idea to start off by looking at one entry from each of the cities we're going to analyze. Run the first code cell below to load some packages and functions that you'll be using in your analysis. Then, complete the second code cell to print out the first trip recorded from each of the cities (the second line of each data file).\n",
    "\n",
    "> **Tip**: You can run a code cell like you formatted Markdown cells above by clicking on the cell and using the keyboard shortcut **Shift** + **Enter** or **Shift** + **Return**. Alternatively, a code cell can be executed using the **Play** button in the toolbar after selecting it. While the cell is running, you will see an asterisk in the message to the left of the cell, i.e. `In [*]:`. The asterisk will change into a number to show that execution has completed, e.g. `In [1]`. If there is output, it will show up as `Out [1]:`, with an appropriate number to match the \"In\" number."
   ]
  },
  {
   "cell_type": "code",
   "execution_count": 35,
   "metadata": {},
   "outputs": [],
   "source": [
    "## import all necessary packages and functions.\n",
    "import csv # read and write csv files\n",
    "from datetime import datetime # operations to parse dates\n",
    "from pprint import pprint # use to print data structures like dictionaries in\n",
    "                          # a nicer way than the base print function."
   ]
  },
  {
   "cell_type": "code",
   "execution_count": 36,
   "metadata": {},
   "outputs": [
    {
     "name": "stdout",
     "output_type": "stream",
     "text": [
      "\n",
      "City: NYC\n",
      "OrderedDict([('tripduration', '839'),\n",
      "             ('starttime', '1/1/2016 00:09:55'),\n",
      "             ('stoptime', '1/1/2016 00:23:54'),\n",
      "             ('start station id', '532'),\n",
      "             ('start station name', 'S 5 Pl & S 4 St'),\n",
      "             ('start station latitude', '40.710451'),\n",
      "             ('start station longitude', '-73.960876'),\n",
      "             ('end station id', '401'),\n",
      "             ('end station name', 'Allen St & Rivington St'),\n",
      "             ('end station latitude', '40.72019576'),\n",
      "             ('end station longitude', '-73.98997825'),\n",
      "             ('bikeid', '17109'),\n",
      "             ('usertype', 'Customer'),\n",
      "             ('birth year', ''),\n",
      "             ('gender', '0')])\n",
      "\n",
      "City: Chicago\n",
      "OrderedDict([('trip_id', '9080545'),\n",
      "             ('starttime', '3/31/2016 23:30'),\n",
      "             ('stoptime', '3/31/2016 23:46'),\n",
      "             ('bikeid', '2295'),\n",
      "             ('tripduration', '926'),\n",
      "             ('from_station_id', '156'),\n",
      "             ('from_station_name', 'Clark St & Wellington Ave'),\n",
      "             ('to_station_id', '166'),\n",
      "             ('to_station_name', 'Ashland Ave & Wrightwood Ave'),\n",
      "             ('usertype', 'Subscriber'),\n",
      "             ('gender', 'Male'),\n",
      "             ('birthyear', '1990')])\n",
      "\n",
      "City: Washington\n",
      "OrderedDict([('Duration (ms)', '427387'),\n",
      "             ('Start date', '3/31/2016 22:57'),\n",
      "             ('End date', '3/31/2016 23:04'),\n",
      "             ('Start station number', '31602'),\n",
      "             ('Start station', 'Park Rd & Holmead Pl NW'),\n",
      "             ('End station number', '31207'),\n",
      "             ('End station', 'Georgia Ave and Fairmont St NW'),\n",
      "             ('Bike number', 'W20842'),\n",
      "             ('Member Type', 'Registered')])\n"
     ]
    }
   ],
   "source": [
    "def print_first_point(filename):\n",
    "    \"\"\"\n",
    "    This function prints and returns the first data point (second row) from\n",
    "    a csv file that includes a header row.\n",
    "    \"\"\"\n",
    "    # print city name for reference\n",
    "    city = filename.split('-')[0].split('/')[-1]\n",
    "    print('\\nCity: {}'.format(city))\n",
    "    \n",
    "    with open(filename, 'r') as f_in:\n",
    "        ## TODO: Use the csv library to set up a DictReader object. ##\n",
    "        ## see https://docs.python.org/3/library/csv.html           ##\n",
    "        trip_reader = csv.DictReader(f_in)\n",
    "        \n",
    "        ## TODO: Use a function on the DictReader object to read the     ##\n",
    "        ## first trip from the data file and store it in a variable.     ##\n",
    "        ## see https://docs.python.org/3/library/csv.html#reader-objects ##\n",
    "        first_trip =next(trip_reader)\n",
    "        \n",
    "        ## TODO: Use the pprint library to print the first trip. ##\n",
    "        ## see https://docs.python.org/3/library/pprint.html     ##\n",
    "        pprint(first_trip)\n",
    "    # output city name and first trip for later testing\n",
    "    return (city, first_trip)\n",
    "\n",
    "# list of files for each city\n",
    "data_files = ['./data/NYC-CitiBike-2016.csv',\n",
    "              './data/Chicago-Divvy-2016.csv',\n",
    "              './data/Washington-CapitalBikeshare-2016.csv',]\n",
    "\n",
    "# print the first trip from each file, store in dictionary\n",
    "example_trips = {}\n",
    "for data_file in data_files:\n",
    "    city, first_trip = print_first_point(data_file)\n",
    "    example_trips[city] = first_trip"
   ]
  },
  {
   "cell_type": "markdown",
   "metadata": {},
   "source": [
    "If everything has been filled out correctly, you should see below the printout of each city name (which has been parsed from the data file name) that the first trip has been parsed in the form of a dictionary. When you set up a `DictReader` object, the first row of the data file is normally interpreted as column names. Every other row in the data file will use those column names as keys, as a dictionary is generated for each row.\n",
    "\n",
    "This will be useful since we can refer to quantities by an easily-understandable label instead of just a numeric index. For example, if we have a trip stored in the variable `row`, then we would rather get the trip duration from `row['duration']` instead of `row[0]`.\n",
    "\n",
    "<a id='condensing'></a>\n",
    "### Condensing the Trip Data\n",
    "\n",
    "It should also be observable from the above printout that each city provides different information. Even where the information is the same, the column names and formats are sometimes different. To make things as simple as possible when we get to the actual exploration, we should trim and clean the data. Cleaning the data makes sure that the data formats across the cities are consistent, while trimming focuses only on the parts of the data we are most interested in to make the exploration easier to work with.\n",
    "\n",
    "You will generate new data files with five values of interest for each trip: trip duration, starting month, starting hour, day of the week, and user type. Each of these may require additional wrangling depending on the city:\n",
    "\n",
    "- **Duration**: This has been given to us in seconds (New York, Chicago) or milliseconds (Washington). A more natural unit of analysis will be if all the trip durations are given in terms of minutes.\n",
    "- **Month**, **Hour**, **Day of Week**: Ridership volume is likely to change based on the season, time of day, and whether it is a weekday or weekend. Use the start time of the trip to obtain these values. The New York City data includes the seconds in their timestamps, while Washington and Chicago do not. The [`datetime`](https://docs.python.org/3/library/datetime.html) package will be very useful here to make the needed conversions.\n",
    "- **User Type**: It is possible that users who are subscribed to a bike-share system will have different patterns of use compared to users who only have temporary passes. Washington divides its users into two types: 'Registered' for users with annual, monthly, and other longer-term subscriptions, and 'Casual', for users with 24-hour, 3-day, and other short-term passes. The New York and Chicago data uses 'Subscriber' and 'Customer' for these groups, respectively. For consistency, you will convert the Washington labels to match the other two.\n",
    "\n",
    "\n",
    "**Question 3a**: Complete the helper functions in the code cells below to address each of the cleaning tasks described above."
   ]
  },
  {
   "cell_type": "code",
   "execution_count": 37,
   "metadata": {},
   "outputs": [],
   "source": [
    "def duration_in_mins(datum, city):\n",
    "    \"\"\"\n",
    "    Takes as input a dictionary containing info about a single trip (datum) and\n",
    "    its origin city (city) and returns the trip duration in units of minutes.\n",
    "    \n",
    "    Remember that Washington is in terms of milliseconds while Chicago and NYC\n",
    "    are in terms of seconds. \n",
    "    \n",
    "    HINT: The csv module reads in all of the data as strings, including numeric\n",
    "    values. You will need a function to convert the strings into an appropriate\n",
    "    numeric type when making your transformations.\n",
    "    see https://docs.python.org/3/library/functions.html\n",
    "    \"\"\"\n",
    "    # YOUR CODE HERE\n",
    "    \n",
    "    if (city == 'NYC') or (city == 'Chicago'):\n",
    "        duration = int(datum['tripduration']) #We want time in terms of seconds for 'NYC' and 'Chicago'\n",
    "    else: \n",
    "        duration = int(datum['Duration (ms)'])/1000 #We want time in terms of milliseconds for 'Washington' and 1 ms = 1/1000 \n",
    "    \n",
    "    return duration/60\n",
    "\n",
    "\n",
    "# Some tests to check that your code works. There should be no output if all of\n",
    "# the assertions pass. The `example_trips` dictionary was obtained from when\n",
    "# you printed the first trip from each of the original data files.\n",
    "tests = {'NYC': 13.9833,\n",
    "         'Chicago': 15.4333,\n",
    "         'Washington': 7.1231}\n",
    "\n",
    "for city in tests:\n",
    "    assert abs(duration_in_mins(example_trips[city], city) - tests[city]) < .001"
   ]
  },
  {
   "cell_type": "code",
   "execution_count": 38,
   "metadata": {},
   "outputs": [],
   "source": [
    "def time_of_trip(datum, city):\n",
    "    \"\"\"\n",
    "    Takes as input a dictionary containing info about a single trip (datum) and\n",
    "    its origin city (city) and returns the month, hour, and day of the week in\n",
    "    which the trip was made.\n",
    "    \n",
    "    Remember that NYC includes seconds, while Washington and Chicago do not.\n",
    "    \n",
    "    HINT: You should use the datetime module to parse the original date\n",
    "    strings into a format that is useful for extracting the desired information.\n",
    "    see https://docs.python.org/3/library/datetime.html#strftime-and-strptime-behavior\n",
    "    \"\"\"\n",
    "    from datetime import datetime\n",
    "    \n",
    "    # YOUR CODE HERE\n",
    "    if city == 'NYC':\n",
    "        start_time = datum['starttime'] #Getting starttime from NewYork Data\n",
    "        \n",
    "        # we are calling one of the method 'strptime' for creating datetime object and creating formatted string \n",
    "        \n",
    "        t1 = datetime.strptime(start_time, '%m/%d/%Y %H:%M:%S') #Newyork includes seconds, So we used %S.\n",
    "        \n",
    "        #We are converting a local time to the String format we need by using strftime module\n",
    "        \n",
    "        day_of_week = t1.strftime('%A') #For getting full weekday name in solution\n",
    "        \n",
    "        return (t1.month, t1.hour, day_of_week)\n",
    "    elif city == 'Chicago':\n",
    "        start_time = datum['starttime']\n",
    "        \n",
    "        # we are calling one of the method 'strptime' for creating datetime object and creating formatted string\n",
    "        \n",
    "        t2 = datetime.strptime(start_time, '%m/%d/%Y %H:%M') #Here we are not including seconds  \n",
    "        \n",
    "        #We are converting a local time to the String format we need by using strftime module\n",
    "        day_of_week = t2.strftime('%A')\n",
    "        \n",
    "        return (t2.month, t2.hour, day_of_week)\n",
    "    else:\n",
    "        starttime = datum['Start date']\n",
    "        \n",
    "        # we are calling one of the method 'strptime' for creating datetime object and creating formatted string\n",
    "        t3 = datetime.strptime(starttime, '%m/%d/%Y %H:%M')\n",
    "        \n",
    "        #We are converting a local time to the String format we need by using strftime module\n",
    "        \n",
    "        day_of_week = t3.strftime('%A')\n",
    "        return (t3.month, t3.hour, day_of_week)\n",
    "\n",
    "\n",
    "# Some tests to check that your code works. There should be no output if all of\n",
    "# the assertions pass. The `example_trips` dictionary was obtained from when\n",
    "# you printed the first trip from each of the original data files.\n",
    "tests = {'NYC': (1, 0, 'Friday'),\n",
    "         'Chicago': (3, 23, 'Thursday'),\n",
    "         'Washington': (3, 22, 'Thursday')}\n",
    "\n",
    "for city in tests:\n",
    "    assert time_of_trip(example_trips[city], city) == tests[city]"
   ]
  },
  {
   "cell_type": "code",
   "execution_count": 39,
   "metadata": {},
   "outputs": [],
   "source": [
    "def type_of_user(datum, city):\n",
    "    \"\"\"\n",
    "    Takes as input a dictionary containing info about a single trip (datum) and\n",
    "    its origin city (city) and returns the type of system user that made the\n",
    "    trip.\n",
    "    \n",
    "    Remember that Washington has different category names compared to Chicago\n",
    "    and NYC. \n",
    "    \"\"\"\n",
    "    \n",
    "    # YOUR CODE HERE\n",
    "    \n",
    "    if city == 'NYC' :\n",
    "        \n",
    "        user_type = datum['usertype']\n",
    "        \n",
    "    elif city == 'Chicago':\n",
    "        \n",
    "        user_type = datum['usertype']\n",
    "        \n",
    "    elif city == 'Washington':\n",
    "        \n",
    "        if datum['Member Type'] == 'Registered':\n",
    "            \n",
    "            user_type = 'Subscriber'\n",
    "            \n",
    "        else:\n",
    "            \n",
    "            user_type = 'Customer'\n",
    "    \n",
    "    return user_type\n",
    "\n",
    "\n",
    "# Some tests to check that your code works. There should be no output if all of\n",
    "# the assertions pass. The `example_trips` dictionary was obtained from when\n",
    "# you printed the first trip from each of the original data files.\n",
    "tests = {'NYC': 'Customer',\n",
    "         'Chicago': 'Subscriber',\n",
    "         'Washington': 'Subscriber'}\n",
    "\n",
    "for city in tests:\n",
    "    assert type_of_user(example_trips[city], city) == tests[city]"
   ]
  },
  {
   "cell_type": "markdown",
   "metadata": {},
   "source": [
    "**Question 3b**: Now, use the helper functions you wrote above to create a condensed data file for each city consisting only of the data fields indicated above. In the `/examples/` folder, you will see an example datafile from the [Bay Area Bike Share](http://www.bayareabikeshare.com/open-data) before and after conversion. Make sure that your output is formatted to be consistent with the example file."
   ]
  },
  {
   "cell_type": "code",
   "execution_count": 40,
   "metadata": {},
   "outputs": [],
   "source": [
    "def condense_data(in_file, out_file, city):\n",
    "    \"\"\"\n",
    "    This function takes full data from the specified input file\n",
    "    and writes the condensed data to a specified output file. The city\n",
    "    argument determines how the input file will be parsed.\n",
    "    \n",
    "    HINT: See the cell below to see how the arguments are structured!\n",
    "    \"\"\"\n",
    "    \n",
    "    with open(out_file, 'w') as f_out, open(in_file, 'r') as f_in:\n",
    "        # set up csv DictWriter object - writer requires column names for the\n",
    "        # first row as the \"fieldnames\" argument\n",
    "        out_colnames = ['duration', 'month', 'hour', 'day_of_week', 'user_type']        \n",
    "        trip_writer = csv.DictWriter(f_out, fieldnames = out_colnames)\n",
    "        trip_writer.writeheader()\n",
    "        \n",
    "        ## TODO: set up csv DictReader object ##\n",
    "        trip_reader = csv.DictReader(f_in)\n",
    "\n",
    "        first_trip = next(trip_reader)\n",
    "        # collect data from and process each row\n",
    "        for row in trip_reader:\n",
    "            # set up a dictionary to hold the values for the cleaned and trimmed\n",
    "            # data point\n",
    "            new_point = {}\n",
    "\n",
    "            ## TODO: use the helper functions to get the cleaned data from  ##\n",
    "            ## the original data dictionaries.                              ##\n",
    "            ## Note that the keys for the new_point dictionary should match ##\n",
    "            ## the column names set in the DictWriter object above.         ##\n",
    "            month, hour, day_of_week = time_of_trip(row, city)\n",
    "            new_point[out_colnames[0]] = duration_in_mins(row, city)\n",
    "            new_point[out_colnames[1]] = month\n",
    "            new_point[out_colnames[2]] = hour\n",
    "            new_point[out_colnames[3]] = day_of_week\n",
    "            new_point[out_colnames[4]] = type_of_user(row, city)\n",
    "            \n",
    "\n",
    "            ## TODO: write the processed information to the output file.     ##\n",
    "            ## see https://docs.python.org/3/library/csv.html#writer-objects ##\n",
    "            trip_writer.writerow(new_point)\n",
    "            "
   ]
  },
  {
   "cell_type": "code",
   "execution_count": 41,
   "metadata": {},
   "outputs": [
    {
     "name": "stdout",
     "output_type": "stream",
     "text": [
      "\n",
      "City: Washington\n",
      "OrderedDict([('duration', '9.792516666666668'),\n",
      "             ('month', '3'),\n",
      "             ('hour', '22'),\n",
      "             ('day_of_week', 'Thursday'),\n",
      "             ('user_type', 'Subscriber')])\n",
      "\n",
      "City: Chicago\n",
      "OrderedDict([('duration', '3.3'),\n",
      "             ('month', '3'),\n",
      "             ('hour', '22'),\n",
      "             ('day_of_week', 'Thursday'),\n",
      "             ('user_type', 'Subscriber')])\n",
      "\n",
      "City: NYC\n",
      "OrderedDict([('duration', '11.433333333333334'),\n",
      "             ('month', '1'),\n",
      "             ('hour', '0'),\n",
      "             ('day_of_week', 'Friday'),\n",
      "             ('user_type', 'Subscriber')])\n"
     ]
    }
   ],
   "source": [
    "# Run this cell to check your work\n",
    "city_info = {'Washington': {'in_file': './data/Washington-CapitalBikeshare-2016.csv',\n",
    "                            'out_file': './data/Washington-2016-Summary.csv'},\n",
    "             'Chicago': {'in_file': './data/Chicago-Divvy-2016.csv',\n",
    "                         'out_file': './data/Chicago-2016-Summary.csv'},\n",
    "             'NYC': {'in_file': './data/NYC-CitiBike-2016.csv',\n",
    "                     'out_file': './data/NYC-2016-Summary.csv'}}\n",
    "\n",
    "for city, filenames in city_info.items():\n",
    "    condense_data(filenames['in_file'], filenames['out_file'], city)\n",
    "    print_first_point(filenames['out_file'])"
   ]
  },
  {
   "cell_type": "markdown",
   "metadata": {},
   "source": [
    "> **Tip**: If you save a jupyter Notebook, the output from running code blocks will also be saved. However, the state of your workspace will be reset once a new session is started. Make sure that you run all of the necessary code blocks from your previous session to reestablish variables and functions before picking up where you last left off.\n",
    "\n",
    "<a id='eda'></a>\n",
    "## Exploratory Data Analysis\n",
    "\n",
    "Now that you have the data collected and wrangled, you're ready to start exploring the data. In this section you will write some code to compute descriptive statistics from the data. You will also be introduced to the `matplotlib` library to create some basic histograms of the data.\n",
    "\n",
    "<a id='statistics'></a>\n",
    "### Statistics\n",
    "\n",
    "First, let's compute some basic counts. The first cell below contains a function that uses the csv module to iterate through a provided data file, returning the number of trips made by subscribers and customers. The second cell runs this function on the example Bay Area data in the `/examples/` folder. Modify the cells to answer the question below.\n",
    "\n",
    "**Question 4a**: Which city has the highest number of trips? Which city has the highest proportion of trips made by subscribers? Which city has the highest proportion of trips made by short-term customers?\n",
    "\n",
    "**Answer**:  <strong>i) New York</strong>  has the highest number of trips.<br> <strong>ii) New York</strong> has the highest proportion of trips made by subscribers. <br> <strong>iii) Chicago</strong> has the proportion of trips made by short-term customers."
   ]
  },
  {
   "cell_type": "code",
   "execution_count": 42,
   "metadata": {},
   "outputs": [],
   "source": [
    "def number_of_trips(filename):\n",
    "    \"\"\"\n",
    "    This function reads in a file with trip data and reports the number of\n",
    "    trips made by subscribers, customers, and total overall.\n",
    "    \"\"\"\n",
    "    with open(filename, 'r') as f_in:\n",
    "        # set up csv reader object\n",
    "        reader = csv.DictReader(f_in)\n",
    "        \n",
    "        # initialize count variables\n",
    "        n_subscribers = 0\n",
    "        n_customers = 0\n",
    "        \n",
    "        # tally up ride types\n",
    "        for row in reader:\n",
    "            if row['user_type'] == 'Subscriber':\n",
    "                n_subscribers += 1 #Counting the no of trips made by Subscribers and Customers.\n",
    "            else:\n",
    "                n_customers += 1\n",
    "        \n",
    "        # compute total number of rides\n",
    "        n_total = n_subscribers + n_customers\n",
    "        \n",
    "        #Calculating proportion of the Subscribers and Customers using formula proportion = (count/total)*100\n",
    "        \n",
    "        sub_proportion = (n_subscribers/n_total)*100  #Here we used (count of ridership of subscribers/total)*100\n",
    "        \n",
    "        cus_proportion = (n_customers/n_total)*100 #Here we used (count of ridership of customers/total)*100\n",
    "        # return tallies as a tuple\n",
    "        return(n_subscribers, n_customers, n_total, sub_proportion, cus_proportion )"
   ]
  },
  {
   "cell_type": "code",
   "execution_count": 43,
   "metadata": {},
   "outputs": [
    {
     "name": "stdout",
     "output_type": "stream",
     "text": [
      "./data/Washington-2016-Summary1.csv : \n",
      "\n",
      "n_subscribers:  51752\n",
      "n_customers:  14573\n",
      "n_total:  66325\n",
      "proportion subscribers:  78.0278929513758\n",
      "proportion customers:  21.9721070486242\n",
      "\n",
      "\n",
      "./data/Chicago-2016-Summary1.csv : \n",
      "\n",
      "n_subscribers:  54981\n",
      "n_customers:  17149\n",
      "n_total:  72130\n",
      "proportion subscribers:  76.22487175932345\n",
      "proportion customers:  23.77512824067656\n",
      "\n",
      "\n",
      "./data/NYC-2016-Summary1.csv : \n",
      "\n",
      "n_subscribers:  245896\n",
      "n_customers:  30901\n",
      "n_total:  276797\n",
      "proportion subscribers:  88.83622293594222\n",
      "proportion customers:  11.163777064057776\n",
      "\n",
      "\n"
     ]
    }
   ],
   "source": [
    "## Modify this and the previous cell to answer Question 4a. Remember to run ##\n",
    "## the function on the cleaned data files you created from Question 3.      ##\n",
    "\n",
    "\n",
    "#Using my own new files of data created with middle name 'Summary1' \n",
    "data_file = ['./data/Washington-2016-Summary1.csv', './data/Chicago-2016-Summary1.csv', './data/NYC-2016-Summary1.csv'] \n",
    "for datafiles in data_file:\n",
    "    print(datafiles,\": \\n\")\n",
    "    n_subscribers, n_customers, n_total, sub_proportion, cus_proportion = number_of_trips(datafiles)\n",
    "    #print(number_of_trips(datafiles))\n",
    "    print(\"n_subscribers: \", n_subscribers)\n",
    "    print(\"n_customers: \", n_customers)\n",
    "    print(\"n_total: \", n_total)\n",
    "    print(\"proportion subscribers: \", sub_proportion)\n",
    "    print(\"proportion customers: \", cus_proportion)\n",
    "    print(\"\\n\")"
   ]
  },
  {
   "cell_type": "markdown",
   "metadata": {},
   "source": [
    "> **Tip**: In order to add additional cells to a notebook, you can use the \"Insert Cell Above\" and \"Insert Cell Below\" options from the menu bar above. There is also an icon in the toolbar for adding new cells, with additional icons for moving the cells up and down the document. By default, new cells are of the code type; you can also specify the cell type (e.g. Code or Markdown) of selected cells from the Cell menu or the dropdown in the toolbar.\n",
    "\n",
    "Now, you will write your own code to continue investigating properties of the data.\n",
    "\n",
    "**Question 4b**: Bike-share systems are designed for riders to take short trips. Most of the time, users are allowed to take trips of 30 minutes or less with no additional charges, with overage charges made for trips of longer than that duration. What is the average trip length for each city? What proportion of rides made in each city are longer than 30 minutes?\n",
    "\n",
    "**Answer**: The Average trip length for <strong>Chicago: </strong>16.56 .<br>The Average trip length for<strong> Washington:  </strong> is 18.93.<br>The Average trip length for<strong> NewYork:  </strong> is 15.81.<br> The proportion of riders  that are more2 than 30 minutes is <strong>7.30% for NewYork</strong>, <strong> 10.83% for Washington</strong>,<strong> 8.33%  for Chicago</strong>."
   ]
  },
  {
   "cell_type": "code",
   "execution_count": 44,
   "metadata": {
    "scrolled": true
   },
   "outputs": [],
   "source": [
    "## Use this and additional cells to answer Question 4b.                 ##\n",
    "##                                                                      ##\n",
    "## HINT: The csv module reads in all of the data as strings, including  ##\n",
    "## numeric values. You will need a function to convert the strings      ##\n",
    "## into an appropriate numeric type before you aggregate data.          ##\n",
    "## TIP: For the Bay Area example, the average trip length is 14 minutes ##\n",
    "## and 3.5% of trips are longer than 30 minutes.                        ##\n",
    "## I will need a function to convert the strings into an appropriate numeric type before you aggregate data. \n",
    "def len_of_trip(filename):\n",
    "    \n",
    "    with open(filename, 'r') as f_in:\n",
    "        \n",
    "        reader = csv.DictReader(f_in)\n",
    "        \n",
    "        s = 0 #Users taking time less than 30 min\n",
    "        t = 0 #Users taking time more than 30 min\n",
    "        total = 0 #Total duration\n",
    "        for row in reader:\n",
    "            s+=1\n",
    "            duration=float(row['duration'])\n",
    "            total=total + duration\n",
    "            if duration > 30:\n",
    "                t += 1\n",
    "        avg_length = (total/s) # calculating average trip length\n",
    "        \n",
    "        #Calculating proportion of total users taking time more than 30 minutes to the users taking time less than 30 minutes\n",
    "        prop = (t/s)*100 \n",
    "        \n",
    "        return (s, t, avg_length, prop, total)\n"
   ]
  },
  {
   "cell_type": "code",
   "execution_count": 45,
   "metadata": {},
   "outputs": [
    {
     "name": "stdout",
     "output_type": "stream",
     "text": [
      "./data/Washington-2016-Summary1.csv : \n",
      "\n",
      "Average trip :  18.933051618042487\n",
      "Total duration length:  1255734.648566668\n",
      "Proportion :  10.839050131926122\n",
      "User taking time less than 30:  66325\n",
      "User taking time more than 30:  7189\n",
      "\n",
      "\n",
      "./data/Chicago-2016-Summary1.csv : \n",
      "\n",
      "Average trip :  16.563645039049852\n",
      "Total duration length:  1194735.7166666659\n",
      "Proportion :  8.332178011922917\n",
      "User taking time less than 30:  72130\n",
      "User taking time more than 30:  6010\n",
      "\n",
      "\n",
      "./data/NYC-2016-Summary1.csv : \n",
      "\n",
      "Average trip :  15.81259960669162\n",
      "Total duration length:  4376880.13333342\n",
      "Proportion :  7.302463538260892\n",
      "User taking time less than 30:  276797\n",
      "User taking time more than 30:  20213\n",
      "\n",
      "\n"
     ]
    }
   ],
   "source": [
    "data_file = ['./data/Washington-2016-Summary1.csv', './data/Chicago-2016-Summary1.csv', './data/NYC-2016-Summary1.csv']\n",
    "for datafiles in data_file:\n",
    "    print(datafiles,\": \\n\")\n",
    "    \n",
    "    s, t, avg_length, prop, total = len_of_trip(datafiles)\n",
    "    print(\"Average trip : \", avg_length)\n",
    "    print(\"Total duration length: \", total)\n",
    "    print(\"Proportion : \", prop)\n",
    "    print(\"User taking time less than 30: \", s)\n",
    "    print(\"User taking time more than 30: \", t)\n",
    "    print(\"\\n\")"
   ]
  },
  {
   "cell_type": "markdown",
   "metadata": {},
   "source": [
    "**Question 4c**: Dig deeper into the question of trip duration based on ridership. Choose one city. Within that city, which type of user takes longer rides on average: Subscribers or Customers?\n",
    "\n",
    "**Answer**: We have chosen <strong>NewYork city.</strong>. <br>In <strong>NewYork</strong> Customers take longer rides on an Average: 33 minutes.<br> The Average time of subscribers taking rides is 13.68 minutes."
   ]
  },
  {
   "cell_type": "code",
   "execution_count": 46,
   "metadata": {},
   "outputs": [],
   "source": [
    "## Use this and additional cells to answer Question 4c. If you have    ##\n",
    "## not done so yet, consider revising some of your previous code to    ##\n",
    "## make use of functions for reusability.                              ##\n",
    "##                                                                     ##\n",
    "## TIP: For the Bay Area example data, you should find the average     ##\n",
    "## Subscriber trip duration to be 9.5 minutes and the average Customer ##\n",
    "## trip duration to be 54.6 minutes. Do the other cities have this     ##\n",
    "## level of difference?                                                ##\n",
    "def Duration_RiderShip(filename):\n",
    "    \n",
    "    with open(filename, 'r') as f_in:\n",
    "        \n",
    "        reader = csv.DictReader(f_in)\n",
    "        \n",
    "        #Here we are counting the subscribers and customers and finding there total duration of each city\n",
    "        sub = 0\n",
    "        cus = 0\n",
    "        sub_total = 0\n",
    "        cus_total = 0\n",
    "        for row in reader:\n",
    "            user_type = row['user_type']\n",
    "            duration=float(row['duration'])\n",
    "            if user_type == 'Subscriber':\n",
    "                \n",
    "                sub += 1\n",
    "                \n",
    "                sub_total += duration\n",
    "            elif user_type == 'Customer':\n",
    "                \n",
    "                cus += 1\n",
    "                \n",
    "                cus_total += duration\n",
    "        average_sub = sub_total / sub\n",
    "        average_cus = cus_total / cus\n",
    "        \n",
    "        return (sub, cus, average_sub, average_cus)\n"
   ]
  },
  {
   "cell_type": "code",
   "execution_count": 47,
   "metadata": {},
   "outputs": [
    {
     "name": "stdout",
     "output_type": "stream",
     "text": [
      "./data/Washington-2016-Summary1.csv : \n",
      "\n",
      "Subscriber:  51752\n",
      "Customer:  14573\n",
      "Average Subscriber Ride duration:  12.528224939776903\n",
      "Average Customer Ride duraion:  41.67803139252976\n",
      "./data/Chicago-2016-Summary1.csv : \n",
      "\n",
      "Subscriber:  54981\n",
      "Customer:  17149\n",
      "Average Subscriber Ride duration:  12.067140466706615\n",
      "Average Customer Ride duraion:  30.979781133982506\n",
      "./data/NYC-2016-Summary1.csv : \n",
      "\n",
      "Subscriber:  245896\n",
      "Customer:  30184\n",
      "Average Subscriber Ride duration:  13.680790523907177\n",
      "Average Customer Ride duraion:  32.98263373531245\n"
     ]
    }
   ],
   "source": [
    "data_file = ['./data/Washington-2016-Summary1.csv', './data/Chicago-2016-Summary1.csv', './data/NYC-2016-Summary1.csv']\n",
    "for datafiles in data_file:\n",
    "    \n",
    "    print(datafiles,\": \\n\")\n",
    "    sub, cus, average_sub, average_cus = Duration_RiderShip(datafiles)\n",
    "    print(\"Subscriber: \", sub)\n",
    "    print(\"Customer: \", cus)\n",
    "    print(\"Average Subscriber Ride duration: \", average_sub)\n",
    "    print(\"Average Customer Ride duraion: \", average_cus)"
   ]
  },
  {
   "cell_type": "code",
   "execution_count": 48,
   "metadata": {},
   "outputs": [
    {
     "data": {
      "image/png": "[encoded data removed]",
      "text/plain": [
       "<matplotlib.figure.Figure at 0x7f76d60a16d8>"
      ]
     },
     "metadata": {},
     "output_type": "display_data"
    }
   ],
   "source": [
    "# load library\n",
    "import matplotlib.pyplot as plt\n",
    "\n",
    "# this is a 'magic word' that allows for plots to be displayed\n",
    "# inline with the notebook. If you want to know more, see:\n",
    "# http://ipython.readthedocs.io/en/stable/interactive/magics.html\n",
    "%matplotlib inline \n",
    "\n",
    "# example histogram, data taken from bay area sample\n",
    "data = [ 7.65,  8.92,  7.42,  5.50, 16.17,  4.20,  8.98,  9.62, 11.48, 14.33,\n",
    "        19.02, 21.53,  3.90,  7.97,  2.62,  2.67,  3.08, 14.40, 12.90,  7.83,\n",
    "        25.12,  8.30,  4.93, 12.43, 10.60,  6.17, 10.88,  4.78, 15.15,  3.53,\n",
    "         9.43, 13.32, 11.72,  9.85,  5.22, 15.10,  3.95,  3.17,  8.78,  1.88,\n",
    "         4.55, 12.68, 12.38,  9.78,  7.63,  6.45, 17.38, 11.90, 11.52,  8.63,]\n",
    "plt.hist(data)\n",
    "plt.title('Distribution of Trip Durations')\n",
    "plt.xlabel('Duration (m)')\n",
    "plt.show()"
   ]
  },
  {
   "cell_type": "markdown",
   "metadata": {},
   "source": [
    "In the above cell, we collected fifty trip times in a list, and passed this list as the first argument to the `.hist()` function. This function performs the computations and creates plotting objects for generating a histogram, but the plot is actually not rendered until the `.show()` function is executed. The `.title()` and `.xlabel()` functions provide some labeling for plot context.\n",
    "\n",
    "You will now use these functions to create a histogram of the trip times for the city you selected in question 4c. Don't separate the Subscribers and Customers for now: just collect all of the trip times and plot them."
   ]
  },
  {
   "cell_type": "code",
   "execution_count": 49,
   "metadata": {},
   "outputs": [],
   "source": [
    "## Use this and additional cells to collect all of the trip times as a list ##\n",
    "## and then use pyplot functions to generate a histogram of trip times.     ##\n",
    "import pandas as pt\n",
    "import matplotlib.pyplot as plt\n",
    "import numpy as py\n",
    "% matplotlib inline\n"
   ]
  },
  {
   "cell_type": "code",
   "execution_count": 50,
   "metadata": {},
   "outputs": [
    {
     "data": {
      "image/png": "[encoded data removed]",
      "text/plain": [
       "<matplotlib.figure.Figure at 0x7f76d6030240>"
      ]
     },
     "metadata": {},
     "output_type": "display_data"
    }
   ],
   "source": [
    "trip_times = pt.read_csv('./data/NYC-2016-Summary1.csv') \n",
    "duration = trip_times['duration']\n",
    "bins = py.arange(0,75,4) # I am using arange function from numpy and we are giving it 3parameters namely- start, end, step\n",
    "plt.hist(duration, bins)\n",
    "plt.title('Trip Durations of NYC')\n",
    "plt.xlabel('Duration(m)')\n",
    "plt.show()"
   ]
  },
  {
   "cell_type": "markdown",
   "metadata": {},
   "source": [
    "If you followed the use of the `.hist()` and `.show()` functions exactly like in the example, you're probably looking at a plot that's completely unexpected. The plot consists of one extremely tall bar on the left, maybe a very short second bar, and a whole lot of empty space in the center and right. Take a look at the duration values on the x-axis. This suggests that there are some highly infrequent outliers in the data. Instead of reprocessing the data, you will use additional parameters with the `.hist()` function to limit the range of data that is plotted. Documentation for the function can be found [[here]](https://matplotlib.org/devdocs/api/_as_gen/matplotlib.pyplot.hist.html#matplotlib.pyplot.hist).\n",
    "\n",
    "**Question 5**: Use the parameters of the `.hist()` function to plot the distribution of trip times for the Subscribers in your selected city. Do the same thing for only the Customers. Add limits to the plots so that only trips of duration less than 75 minutes are plotted. As a bonus, set the plots up so that bars are in five-minute wide intervals. For each group, where is the peak of each distribution? How would you describe the shape of each distribution?\n",
    "\n",
    "**Answer**:  For subscribers group, the peak of trip durations is 5-10 minutes. For customers group, the peak of trip durations is 20-25 minutes. The shape of the distribution of trip durations for subscribers is skewed to the right. The shape of the distribution of trip durations for customers is also skewed to the right."
   ]
  },
  {
   "cell_type": "code",
   "execution_count": 51,
   "metadata": {},
   "outputs": [
    {
     "data": {
      "image/png": "[encoded data removed]",
      "text/plain": [
       "<matplotlib.figure.Figure at 0x7f76d6030d68>"
      ]
     },
     "metadata": {},
     "output_type": "display_data"
    }
   ],
   "source": [
    "## Use this and additional cells to answer Question 5. ##\n",
    "## For Subscribers\n",
    "#query function from pandas library for checking user_type and duration\n",
    "sub = trip_times.query('user_type == \"Subscriber\"') #query function from pandas library for checking user_type\n",
    "sub1 = sub.query('duration < 75')\n",
    "duration = sub1['duration']\n",
    "bins = py.arange(0,75,5)\n",
    "\n",
    "plt.hist(duration, bins)\n",
    "bar = bins + 5 #We want bars at 5minutes wide interval\n",
    "label = ['5','10','15','20','25','30','35','40','45','50','55,''60','65','70','75']\n",
    "plt.xticks(bar, label)\n",
    "plt.title('Trip Durations for subscribers')\n",
    "plt.xlabel('Duration (m) ')\n",
    "plt.show()"
   ]
  },
  {
   "cell_type": "code",
   "execution_count": 52,
   "metadata": {},
   "outputs": [
    {
     "data": {
      "image/png": "[encoded data removed]",
      "text/plain": [
       "<matplotlib.figure.Figure at 0x7f76da9036a0>"
      ]
     },
     "metadata": {},
     "output_type": "display_data"
    }
   ],
   "source": [
    "##For Customers\n",
    "cus = trip_times.query('user_type == \"Customer\"')\n",
    "cus1 = cus.query('duration < 75')\n",
    "duration = cus1['duration']\n",
    "bins = py.arange(0,75,5)\n",
    "\n",
    "plt.hist(duration, bins)\n",
    "bar = bins + 5\n",
    "labels = ['5','10','15','20','25','30','35','40','45','50','55,''60','65','70','75']\n",
    "plt.xticks(bar, labels)\n",
    "plt.title('Trip Durations for Customers')\n",
    "plt.xlabel('Duration (m) ')\n",
    "plt.show()"
   ]
  },
  {
   "cell_type": "markdown",
   "metadata": {
    "collapsed": true
   },
   "source": [
    "<a id='eda_continued'></a>\n",
    "## Performing My Own Analysis\n",
    "\n",
    "So far, I've performed an initial exploration into the data available. I have compared the relative volume of trips made between three U.S. cities and the ratio of trips made by Subscribers and Customers. For one of these cities, I have investigated differences between Subscribers and Customers in terms of how long a typical trip lasts.\n",
    "\n",
    "- How does ridership differ by month or season? Which month / season has the highest ridership? Does the ratio of Subscriber trips to Customer trips change depending on the month or season?\n",
    "- Is the pattern of ridership different on the weekends versus weekdays? On what days are Subscribers most likely to use the system? What about Customers? Does the average duration of rides change depending on the day of the week?\n",
    "- During what time of day is the system used the most? Is there a difference in usage patterns for Subscribers and Customers?\n",
    "\n",
    "\n",
    "**Question 6**: Continue the investigation by exploring another question that could be answered by the data available. Document the question you want to explore below. Your investigation should involve at least two variables and should compare at least two groups. You should also use at least one visualization as part of your explorations.\n",
    "\n",
    "**Answer**: <strong>I would like to proceed with my investigation in the ridership pattern between weekends and weekdays for the Chicago City</strong>.<br> \n",
    "\n",
    "**Part A**: Is the pattern of ridership different on the weekends versus weekdays for Subscribers and Customers?<br>\n",
    "**Answer**: Yes, the ridership pattern different for subcribers on the weekends and weekdays But For customers it is same for both weekends and weekdays.\n",
    "<br>\n",
    "\n",
    "**Part B**: On what days are Subscribers most likely to use the system? What about Customers?<br>\n",
    "**Answer**: The Subscribers on the weekends days are more likely to use the system with average subscriber weekend duration of 13.20 and For Customers it is almost same with approx 31.0 for both weekdays and weekends.\n",
    "<br>\n",
    "\n",
    "**Part C**: Does the average duration of rides change depending on the day of the week?<br>\n",
    "**Answer**: For the Subscribers the average duration of rides changes according to the day of week with weekend average 13.20 and weekday average 11.78. But for the Customers it is almost same for both weekdays and weekends.\n"
   ]
  },
  {
   "cell_type": "code",
   "execution_count": 59,
   "metadata": {},
   "outputs": [],
   "source": [
    "def rider_ship(filename,city): #making a function to calculate ridership\n",
    "    #Subscriber count for weekdays and duration of subscribers for weekends and weekdays\n",
    "    dur_wkend_Sub=0\n",
    "    sub_wkend_count=0\n",
    "    dur_wkday_Sub=0\n",
    "    sub_wkday_count=0\n",
    "    \n",
    "    #Customer count for weekdays and duration of subscribers for weekends and weekdays\n",
    "    dur_wkend_Cus=0\n",
    "    Cus_wkend_count=0\n",
    "    dur_wkday_Cus=0\n",
    "    Cus_wkday_count=0\n",
    "    \n",
    "    \n",
    "    with open(filename, 'r') as f_in:\n",
    "        tripreader = csv.DictReader(f_in)\n",
    "        \n",
    "        for row in tripreader:\n",
    "            day = time_of_trip(row,city)[2] # For Getting day\n",
    "            user = type_of_user(row,city) # For Getting user_type\n",
    "            dur = duration_in_mins(row, city) # For Getting Duration\n",
    "            if user == 'Subscriber':\n",
    "                if (day =='Saturday') or (day == 'Sunday'):\n",
    "                    dur_wkend_Sub += dur\n",
    "                    sub_wkend_count += 1\n",
    "                else:\n",
    "                    dur_wkday_Sub += dur\n",
    "                    sub_wkday_count += 1\n",
    "            else:\n",
    "                if (day =='Saturday') or (day == 'Sunday'):\n",
    "                    dur_wkend_Cus += dur\n",
    "                    Cus_wkend_count += 1\n",
    "                else:\n",
    "                    dur_wkday_Cus += dur\n",
    "                    Cus_wkday_count += 1\n",
    "        \n",
    "        avg_wkend_sub = dur_wkend_Sub/sub_wkend_count #Average weekend duration of Subscribers\n",
    "        avg_wkday_sub = dur_wkday_Sub/sub_wkday_count #Average weekday duration of Subscribers\n",
    "        avg_wkend_Cus = dur_wkend_Cus/Cus_wkend_count #Average weekend duration of Customers\n",
    "        avg_wkday_Cus = dur_wkday_Cus/Cus_wkday_count #Average weekday duration of Customers\n",
    "        \n",
    "        return avg_wkend_Cus, avg_wkend_sub, avg_wkday_Cus, avg_wkday_sub\n",
    "    "
   ]
  },
  {
   "cell_type": "code",
   "execution_count": 54,
   "metadata": {},
   "outputs": [
    {
     "name": "stdout",
     "output_type": "stream",
     "text": [
      "./data/Chicago-Divvy-2016.csv : \n",
      "\n",
      "Average Subscriber Weekday duration:  11.78052040181478\n",
      "Average Customer Weekday duration:  30.86854688950805\n",
      "Average Subscriber Weekend duration:  13.207232078204227\n",
      "Average Customer Weekend duraion:  31.092097347552567\n"
     ]
    }
   ],
   "source": [
    "data_file = './data/Chicago-Divvy-2016.csv'\n",
    "city ='Chicago' \n",
    "\n",
    "print(data_file,\": \\n\")\n",
    "avg_wkend_Cus, avg_wkend_sub, avg_wkday_Cus, avg_wkday_sub = rider_ship(data_file, city)\n",
    "print(\"Average Subscriber Weekday duration: \", avg_wkday_sub )\n",
    "print(\"Average Customer Weekday duration: \", avg_wkday_Cus )\n",
    "print(\"Average Subscriber Weekend duration: \", avg_wkend_sub )\n",
    "print(\"Average Customer Weekend duraion: \", avg_wkend_Cus)"
   ]
  },
  {
   "cell_type": "code",
   "execution_count": 55,
   "metadata": {},
   "outputs": [
    {
     "data": {
      "image/png": "[encoded data removed]",
      "text/plain": [
       "<matplotlib.figure.Figure at 0x7f76d642df60>"
      ]
     },
     "metadata": {},
     "output_type": "display_data"
    }
   ],
   "source": [
    "# Here I used legend function from matlab library for labelling in our Histogram by passing list of label to legend()\n",
    "Chicago_sbar = plt.bar([1], avg_wkend_sub, color = 'r', alpha = 0.9, label = 'Subscribers' )\n",
    "Chicago_cbar = plt.bar([2], avg_wkend_Cus, color = 'b', alpha = 0.9, label = 'Customers' )\n",
    "plt.legend([Chicago_sbar, Chicago_cbar], ['Subsciber', 'Customer'])\n",
    "plt.title('Average Trip Duration for weekends for Chicago city')\n",
    "plt.ylabel('Average trip Duration')\n",
    "plt.xlabel('Subscribers and Customers')\n",
    "plt.show()"
   ]
  },
  {
   "cell_type": "code",
   "execution_count": 56,
   "metadata": {},
   "outputs": [
    {
     "data": {
      "image/png": "[encoded data removed]",
      "text/plain": [
       "<matplotlib.figure.Figure at 0x7f76d64a3ac8>"
      ]
     },
     "metadata": {},
     "output_type": "display_data"
    }
   ],
   "source": [
    "# Here I used legend function from matlab library for labelling in our Histogram by passing list of label to legend()\n",
    "Chicago_sbar = plt.bar([1], avg_wkday_sub , color = 'y', alpha = 0.9, label = 'Subscribers' )\n",
    "Chicago_cbar = plt.bar([2], avg_wkday_Cus, color = 'g', alpha = 0.9, label = 'Customers' )\n",
    "plt.legend([Chicago_sbar, Chicago_cbar], ['Subsciber', 'Customer'])\n",
    "plt.title('Average Trip Duration for weekdays for Chicago city')\n",
    "plt.ylabel('Average trip Duration')\n",
    "plt.xlabel('Subscribers and Customers')\n",
    "plt.show()"
   ]
  },
  {
   "cell_type": "code",
   "execution_count": 57,
   "metadata": {},
   "outputs": [
    {
     "data": {
      "image/png": "[encoded data removed]",
      "text/plain": [
       "<matplotlib.figure.Figure at 0x7f76d6242550>"
      ]
     },
     "metadata": {},
     "output_type": "display_data"
    }
   ],
   "source": [
    "Chicago_sbar = plt.bar([1], avg_wkday_sub , color = 'r', alpha = 0.9, label = 'Weekdays' )\n",
    "Chicago_cbar = plt.bar([2], avg_wkend_sub, color = 'y', alpha = 0.9, label = 'Weekends' )\n",
    "plt.legend([Chicago_sbar, Chicago_cbar], ['Weekdays', 'Weekends'])\n",
    "plt.title('Average Trip Duration for weekdays and Weekends of Subscribers')\n",
    "plt.ylabel('Average trip Duration')\n",
    "plt.xlabel('Subscribers')\n",
    "plt.show()"
   ]
  },
  {
   "cell_type": "code",
   "execution_count": 58,
   "metadata": {},
   "outputs": [
    {
     "data": {
      "image/png": "[encoded data removed]",
      "text/plain": [
       "<matplotlib.figure.Figure at 0x7f76d654b860>"
      ]
     },
     "metadata": {},
     "output_type": "display_data"
    }
   ],
   "source": [
    "Chicago_sbar = plt.bar([1], avg_wkday_Cus , color = 'g', alpha = 0.9, label = 'Weekdays' )\n",
    "Chicago_cbar = plt.bar([2], avg_wkend_Cus, color = 'b', alpha = 0.9, label = 'Weekends' )\n",
    "plt.legend([Chicago_sbar, Chicago_cbar], ['Weekdays', 'Weekends'])\n",
    "plt.title('Average Trip Duration for weekdays and Weekends of Customers')\n",
    "plt.ylabel('Average trip Duration')\n",
    "plt.xlabel('Customers')\n",
    "plt.show()"
   ]
  },
  {
   "cell_type": "markdown",
   "metadata": {},
   "source": [
    "<h1>References Which Helped me in making this Project: </h1>\n",
    "\n",
    "<h3>List of Links: </h3>\n",
    "<ol>\n",
    "    <li> https://docs.python.org/3/library/csv.html </li>\n",
    "    <li> https://matplotlib.org/users/legend_guide.html</li>\n",
    "    <li> https://stackoverflow.com/questions </li>\n",
    "    <li> https://docs.python.org/3/library/pprint.html  </li>\n",
    "    <li> http://ipython.readthedocs.io/en/stable/interactive/magics.html </li>\n",
    "    <li> https://pandas.pydata.org/pandas-docs/stable/visualization.html </li>\n",
    "    <li> https://docs.python.org/3.7/tutorial/index.html </li>\n",
    "    <li> https://docs.python.org/3/library/datetime.html#strftime-and-strptime-behavior</li>\n",
    "    </ol>"
   ]
  },
  {
   "cell_type": "markdown",
   "metadata": {},
   "source": [
    "<a id='conclusions'></a>\n",
    "## Conclusions\n",
    "\n",
    "Congratulations on completing the project! This is only a sampling of the data analysis process: from generating questions, wrangling the data, and to exploring the data. Normally, at this point in the data analysis process, you might want to draw conclusions about the data by performing a statistical test or fitting the data to a model for making predictions. There are also a lot of potential analyses that could be performed on the data which are not possible with only the data provided. For example, detailed location data has not been investigated. Where are the most commonly used docks? What are the most common routes? As another example, weather has potential to have a large impact on daily ridership. How much is ridership impacted when there is rain or snow? Are subscribers or customers affected more by changes in weather?\n",
    "\n",
    "**Question 7**: Putting the bike share data aside, think of a topic or field of interest where you would like to be able to apply the techniques of data science. What would you like to be able to learn from your chosen subject?\n",
    "\n",
    "**Answer**: I would like to apply the techniques of data science for the **Treatment of Cancer Patients**. I would like to find the best treatment methods by collecting the data and verify the **Best Treatment methods for Cancer Patients** from the data collected all over the world.\n",
    "\n",
    "> **Tip**: If we want to share the results of our analysis with others, we aren't limited to giving them a copy of the jupyter Notebook (.ipynb) file. We can also export the Notebook output in a form that can be opened even for those without Python installed. From the **File** menu in the upper left, go to the **Download as** submenu. You can then choose a different format that can be viewed more generally, such as HTML (.html) or\n",
    "PDF (.pdf). You may need additional packages or software to perform these exports.\n",
    "\n",
    "> If you are working on this project via the Project Notebook page in the classroom, you can also submit this project directly from the workspace. **Before you do that**, you should save an HTML copy of the completed project to the workspace by running the code cell below. If it worked correctly, the output code should be a 0, and if you click on the jupyter icon in the upper left, you should see your .html document in the workspace directory. Alternatively, you can download the .html copy of your report following the steps in the previous paragraph, then _upload_ the report to the directory (by clicking the jupyter icon).\n",
    "\n",
    "> Either way, once you've gotten the .html report in your workspace, you can complete your submission by clicking on the \"Submit Project\" button to the lower-right hand side of the workspace."
   ]
  },
  {
   "cell_type": "code",
   "execution_count": null,
   "metadata": {
    "collapsed": true
   },
   "outputs": [],
   "source": [
    "from subprocess import call\n",
    "call(['python', '-m', 'nbconvert', 'Bike_Share_Analysis.ipynb'])"
   ]
  }
 ],
 "metadata": {
  "anaconda-cloud": {},
  "kernelspec": {
   "display_name": "Python 3",
   "language": "python",
   "name": "python3"
  },
  "language_info": {
   "codemirror_mode": {
    "name": "ipython",
    "version": 3
   },
   "file_extension": ".py",
   "mimetype": "text/x-python",
   "name": "python",
   "nbconvert_exporter": "python",
   "pygments_lexer": "ipython3",
   "version": "3.6.3"
  }
 },
 "nbformat": 4,
 "nbformat_minor": 1
}
